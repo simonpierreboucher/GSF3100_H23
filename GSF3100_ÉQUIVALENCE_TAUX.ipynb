{
  "metadata": {
    "kernelspec": {
      "name": "python",
      "display_name": "Python (Pyodide)",
      "language": "python"
    },
    "language_info": {
      "codemirror_mode": {
        "name": "python",
        "version": 3
      },
      "file_extension": ".py",
      "mimetype": "text/x-python",
      "name": "python",
      "nbconvert_exporter": "python",
      "pygments_lexer": "ipython3",
      "version": "3.8"
    }
  },
  "nbformat_minor": 5,
  "nbformat": 4,
  "cells": [
    {
      "cell_type": "markdown",
      "source": "### Équivalence de taux\n### GSF-3100\n### Simon-Pierre Boucher\n\n**Avant d'aller plus loins dans la lecture de cette page, je vous recommande de regarder l'explication sous format de capsule disponible avev le lien suivant:**\n\n* [Écouter directement sur le browser](https://www.dropbox.com/s/2cko00twibbadcf/RPReplay_Final1674787568.mp4?dl=0)\n* [Télécharger la capsule en format MP4](https://www.dropbox.com/s/2cko00twibbadcf/RPReplay_Final1674787568.mp4?dl=1)\n\n\n# **Formule du taux annuel équivalent:**\n\n$$\n\\left(1+\\frac{i_1}{k_1} \\right)^{m_1}=\\left(1+\\frac{i_2}{k_2} \\right)^{m_2}\n$$\n\nCette dernière équation est également équivalente à l’équation suivante utilisant uniquement des taux effectifs (à la place de nominal)\n\n$$\n\\left(1+ r_1\\right)^{m_1}=\\left(1+r_2 \\right)^{m_2}\n$$\n\n- On trouve k1 en trouvant combien de fois la fréquence de r1 entre dans la fréquence de i1\n- On trouve m1 en trouvant combien de fois la fréquence de r1 entre dans une années.\n\n# Exemple (incluant cas ou il y a inversion de u et v)\n\n- Convertir un **taux nominal annuel de 12% capitalisé mensuellement** en un taux nominal annuel capitalisé semestriellement\n    \n    $$\n    \\left(1+\\frac{0.12}{12} \\right)^{12}=\\left(1+\\frac{i_2}{2} \\right)^{2}\n    $$\n    \n    - On trouve k1 = 12 en se demandant combien de fois un mois entre dans une années\n    - On trouve également m1 =12 en se demandant combien de fois un mois entre dans une années.\n    - On trouve k2 = 2 en se demandant combien de fois un semestre entre dans une années\n    - On trouve également m2 =2 en se demandant combien de fois un semestre entre dans une années.\n    \n\n- Convertir un taux nominal mensuel de 4% capitalisé annuellement  en un taux nominal annuel capitalisé semestriellement\n    \n    $$\n    \\left(1+\\frac{0.12}{1/12} \\right)^{1}=\\left(1+\\frac{i_2}{2} \\right)^{2}\n    $$\n    \n    - On trouve k1 = 1/12 en se demandant combien de fois une année entre dans un mois\n    - On trouve également m1 =1 en se demandant combien de fois une année entre dans une années.\n    - On trouve k2 = 2 en se demandant combien de fois un semestre entre dans une années\n    - On trouve également m2 =2 en se demandant combien de fois un semestre entre dans une années.",
      "metadata": {},
      "id": "a35eeb9f-df70-4ab1-a243-2d2025888eb0"
    },
    {
      "cell_type": "markdown",
      "source": "**Pour première exemple, on obtient un taux nominal annuel capitalisé semestriellement de 0.1230403012 ou 12.30403012%**",
      "metadata": {},
      "id": "9b471059-3d57-4738-b562-6bf1f4001d72"
    },
    {
      "cell_type": "markdown",
      "source": "**Pour le deuxième exemple, on obtient un taux nominal annuel capitalisé semestriellement de 0.4331050121 ou 43.31050121%**",
      "metadata": {},
      "id": "d19ebf33-446a-41ec-a822-03dc4d5d8ef6"
    }
  ]
}
